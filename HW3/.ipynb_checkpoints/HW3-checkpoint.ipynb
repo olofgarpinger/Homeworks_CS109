{
 "cells": [
  {
   "cell_type": "markdown",
   "metadata": {},
   "source": [
    "# Homework 3: Prediction and Classification\n",
    "\n",
    "Due: Thursday, October 16, 2014 11:59 PM\n",
    "\n",
    "<a href=https://raw.githubusercontent.com/cs109/2014/master/homework/HW3.ipynb download=HW3.ipynb> Download this assignment</a>\n",
    "\n",
    "#### Submission Instructions\n",
    "To submit your homework, create a folder named lastname_firstinitial_hw# and place your IPython notebooks, data files, and any other files in this folder. Your IPython Notebooks should be completely executed with the results visible in the notebook. We should not have to run any code. Compress the folder (please use .zip compression) and submit to the CS109 dropbox in the appropriate folder. If we cannot access your work because these directions are not followed correctly, we will not grade your work.\n",
    "\n",
    "---\n"
   ]
  },
  {
   "cell_type": "markdown",
   "metadata": {},
   "source": [
    "# Introduction\n",
    "\n",
    "In this assignment you will be using regression and classification to explore different data sets.  \n",
    "\n",
    "**First**: You will use data from before 2002 in the [Sean Lahman's Baseball Database](http://seanlahman.com/baseball-archive/statistics) to create a metric for picking baseball players using linear regression. This is same database we used in Homework 1. This database contains the \"complete batting and pitching statistics from 1871 to 2013, plus fielding statistics, standings, team stats, managerial records, post-season data, and more\". [Documentation provided here](http://seanlahman.com/files/database/readme2012.txt).\n",
    "\n",
    "![\"Sabermetrics Science\"](http://saberseminar.com/wp-content/uploads/2012/01/saber-web.jpg)\n",
    "http://saberseminar.com/wp-content/uploads/2012/01/saber-web.jpg\n",
    "\n",
    "**Second**: You will use the famous [iris](http://en.wikipedia.org/wiki/Iris_flower_data_set) data set to perform a $k$-neareast neighbor classification using cross validation.  While it was introduced in 1936, it is still [one of the most popular](http://archive.ics.uci.edu/ml/) example data sets in the machine learning community. Wikipedia describes the data set as follows: \"The data set consists of 50 samples from each of three species of Iris (Iris setosa, Iris virginica and Iris versicolor). Four features were measured from each sample: the length and the width of the sepals and petals, in centimetres.\" Here is an illustration what the four features measure:\n",
    "\n",
    "![\"iris data features\"](http://sebastianraschka.com/images/blog/2014/linear-discriminant-analysis/iris_petal_sepal.png)\n",
    "http://sebastianraschka.com/images/blog/2014/linear-discriminant-analysis/iris_petal_sepal.png\n",
    "\n",
    "**Third**: You will investigate the influence of higher dimensional spaces on the classification using another standard data set in machine learning called the The [digits data set](http://scikit-learn.org/stable/modules/generated/sklearn.datasets.load_digits.html).  This data set is similar to the MNIST data set discussed in the lecture. The main difference is, that each digit is represented by an 8x8 pixel image patch, which is considerably smaller than the 28x28 pixels from MNIST. In addition, the gray values are restricted to 16 different values (4 bit), instead of 256 (8 bit) for MNIST. \n",
    "\n",
    "**Finally**: In preparation for Homework 4, we want you to read through the following articles related to predicting the 2014 Senate Midterm Elections. \n",
    "\n",
    "* [Nate Silver's Methodology at while at NYT](http://fivethirtyeight.blogs.nytimes.com/methodology/)\n",
    "* [How The FiveThirtyEight Senate Forecast Model Works](http://fivethirtyeight.com/features/how-the-fivethirtyeight-senate-forecast-model-works/)\n",
    "* [Pollster Ratings v4.0: Methodology](http://fivethirtyeight.com/features/pollster-ratings-v40-methodology/)\n",
    "* [Pollster Ratings v4.0: Results](http://fivethirtyeight.com/features/pollster-ratings-v40-results/)\n",
    "* [Nate Silver versus Sam Wang](http://www.washingtonpost.com/blogs/plum-line/wp/2014/09/17/nate-silver-versus-sam-wang/)\n",
    "* [More Nate Silver versus Sam Wang](http://www.dailykos.com/story/2014/09/09/1328288/-Get-Ready-To-Rumbllllle-Battle-Of-The-Nerds-Nate-Silver-VS-Sam-Wang)\n",
    "* [Nate Silver explains critisims of Sam Wang](http://politicalwire.com/archives/2014/10/02/nate_silver_rebuts_sam_wang.html)\n",
    "* [Background on the feud between Nate Silver and Sam Wang](http://talkingpointsmemo.com/dc/nate-silver-sam-wang-feud)\n",
    "* [Are there swing voters?]( http://www.stat.columbia.edu/~gelman/research/unpublished/swing_voters.pdf)\n",
    "\n",
    "\n",
    "\n",
    "---"
   ]
  },
  {
   "cell_type": "markdown",
   "metadata": {},
   "source": [
    "## Load Python modules"
   ]
  },
  {
   "cell_type": "code",
   "execution_count": 1,
   "metadata": {
    "collapsed": true
   },
   "outputs": [],
   "source": [
    "# special IPython command to prepare the notebook for matplotlib\n",
    "%matplotlib inline \n",
    "\n",
    "import requests \n",
    "import StringIO\n",
    "import zipfile\n",
    "import numpy as np\n",
    "import pandas as pd # pandas\n",
    "import matplotlib.pyplot as plt # module for plotting \n",
    "\n",
    "# If this module is not already installed, you may need to install it. \n",
    "# You can do this by typing 'pip install seaborn' in the command line\n",
    "import seaborn as sns \n",
    "\n",
    "import sklearn\n",
    "import sklearn.datasets\n",
    "import sklearn.cross_validation\n",
    "import sklearn.decomposition\n",
    "import sklearn.grid_search\n",
    "import sklearn.neighbors\n",
    "import sklearn.metrics"
   ]
  },
  {
   "cell_type": "markdown",
   "metadata": {},
   "source": [
    "# Problem 1: Sabermetrics\n",
    "\n",
    "Using data preceding the 2002 season pick 10 offensive players keeping the payroll under $20 million (assign each player the median salary). Predict how many games this team would win in a 162 game season.  \n",
    "\n",
    "In this problem we will be returning to the [Sean Lahman's Baseball Database](http://seanlahman.com/baseball-archive/statistics) that we used in Homework 1.  From this database, we will be extract five data sets containing information such as yearly stats and standing, batting statistics, fielding statistics, player names, player salaries and biographical information. You will explore the data in this database from before 2002 and create a metric for picking players. "
   ]
  },
  {
   "cell_type": "markdown",
   "metadata": {},
   "source": [
    "#### Problem 1(a) \n",
    "\n",
    "Load in [these CSV files](http://seanlahman.com/files/database/lahman-csv_2014-02-14.zip) from the [Sean Lahman's Baseball Database](http://seanlahman.com/baseball-archive/statistics). For this assignment, we will use the 'Teams.csv', 'Batting.csv', 'Salaries.csv', 'Fielding.csv', 'Master.csv' tables. Read these tables into separate pandas DataFrames with the following names. \n",
    "\n",
    "CSV file name | Name of pandas DataFrame\n",
    ":---: | :---: \n",
    "Teams.csv | teams\n",
    "Batting.csv | players\n",
    "Salaries.csv | salaries\n",
    "Fielding.csv | fielding\n",
    "Master.csv | master"
   ]
  },
  {
   "cell_type": "code",
   "execution_count": 2,
   "metadata": {
    "collapsed": true
   },
   "outputs": [],
   "source": [
    "Batting = pd.read_csv(\"Batting.csv\")\n",
    "Fielding = pd.read_csv(\"Fielding.csv\")\n",
    "Master = pd.read_csv(\"Master.csv\")\n",
    "Salaries = pd.read_csv(\"Salaries.csv\")\n",
    "Teams = pd.read_csv(\"Teams.csv\")"
   ]
  },
  {
   "cell_type": "markdown",
   "metadata": {},
   "source": [
    "#### Problem 1(b)\n",
    "\n",
    "Calculate the median salary for each player and create a pandas DataFrame called `medianSalaries` with four columns: (1) the player ID, (2) the first name of the player, (3) the last name of the player and (4) the median salary of the player. Show the head of the `medianSalaries` DataFrame.   "
   ]
  },
  {
   "cell_type": "code",
   "execution_count": 3,
   "metadata": {
    "collapsed": true
   },
   "outputs": [],
   "source": [
    "Salaries.head()\n",
    "medianSalaries = pd.merge(Salaries.groupby(\"playerID\", as_index=False)[\"salary\"].median(), Master[[\"playerID\", \"nameFirst\", \"nameLast\"]], how = 'inner', on = [\"playerID\"]).rename(columns={'salary':'medianSalary'})\n",
    "medianSalaries = medianSalaries[[\"playerID\", \"nameFirst\", \"nameLast\", \"medianSalary\"]]\n",
    "medianSalaries.head()"
   ]
  },
  {
   "cell_type": "markdown",
   "metadata": {},
   "source": [
    "#### Problem 1(c)\n",
    "\n",
    "Now, consider only team/season combinations in which the teams played 162 Games. Exclude all data from before 1947. Compute the per plate appearance rates for singles, doubles, triples, HR, and BB. Create a new pandas DataFrame called `stats` that has the teamID, yearID, wins and these rates.\n",
    "\n",
    "**Hint**: Singles are hits that are not doubles, triples, nor HR. Plate appearances are base on balls plus at bats."
   ]
  },
  {
   "cell_type": "code",
   "execution_count": 4,
   "metadata": {
    "collapsed": true
   },
   "outputs": [],
   "source": [
    "Teams_sub = Teams[(Teams[\"G\"] == 162) & (Teams[\"yearID\"] > 1946)].copy()\n",
    "\n",
    "Teams_sub[\"PA\"] = Teams_sub[\"AB\"]+Teams_sub[\"BB\"]\n",
    "Teams_sub[\"1B\"] = Teams_sub[\"H\"]-Teams_sub[\"2B\"]-Teams_sub[\"3B\"]-Teams_sub[\"HR\"]\n",
    "Teams_sub[\"1B_rate\"] = Teams_sub[\"1B\"]/Teams_sub[\"PA\"]\n",
    "Teams_sub[\"2B_rate\"] = Teams_sub[\"2B\"]/Teams_sub[\"PA\"]\n",
    "Teams_sub[\"3B_rate\"] = Teams_sub[\"3B\"]/Teams_sub[\"PA\"]\n",
    "Teams_sub[\"HR_rate\"] = Teams_sub[\"HR\"]/Teams_sub[\"PA\"]\n",
    "Teams_sub[\"BB_rate\"] = Teams_sub[\"BB\"]/Teams_sub[\"PA\"]\n",
    "\n",
    "stats = Teams_sub[[\"teamID\", \"yearID\", \"W\", \"1B_rate\", \"2B_rate\", \"3B_rate\", \"HR_rate\", \"BB_rate\"]].copy()"
   ]
  },
  {
   "cell_type": "markdown",
   "metadata": {},
   "source": [
    "#### Problem 1(d)\n",
    "\n",
    "Is there a noticeable time trend in the rates computed computed in Problem 1(c)? "
   ]
  },
  {
   "cell_type": "code",
   "execution_count": 5,
   "metadata": {
    "collapsed": true
   },
   "outputs": [],
   "source": [
    "fig1 = plt.figure()\n",
    "plt.plot(stats_means[\"yearID\"], stats_means[\"1B_rate\"])\n",
    "plt.legend()\n",
    "fig2 = plt.figure()\n",
    "plt.plot(stats_means[\"yearID\"], stats_means[\"2B_rate\"])\n",
    "plt.legend()\n",
    "fig3 = plt.figure()\n",
    "plt.plot(stats_means[\"yearID\"], stats_means[\"3B_rate\"])\n",
    "plt.legend()\n",
    "fig4 = plt.figure()\n",
    "plt.plot(stats_means[\"yearID\"], stats_means[\"HR_rate\"])\n",
    "plt.legend()\n",
    "fig5 = plt.figure()\n",
    "plt.plot(stats_means[\"yearID\"], stats_means[\"BB_rate\"])\n",
    "plt.legend()"
   ]
  },
  {
   "cell_type": "markdown",
   "metadata": {},
   "source": [
    "#### Problem 1(e) \n",
    "\n",
    "Using the `stats` DataFrame from Problem 1(c), adjust the singles per PA rates so that the average across teams for each year is 0. Do the same for the doubles, triples, HR, and BB rates. "
   ]
  },
  {
   "cell_type": "code",
   "execution_count": 6,
   "metadata": {
    "collapsed": true
   },
   "outputs": [],
   "source": [
    "def meanNormalizeRates(df):\n",
    "    subRates = df[[\"1B_rate\", \"2B_rate\", \"3B_rate\", \"HR_rate\", \"BB_rate\"]]\n",
    "    df[[\"1B_rate\", \"2B_rate\", \"3B_rate\", \"HR_rate\", \"BB_rate\"]] = df[[\"1B_rate\", \"2B_rate\", \"3B_rate\", \"HR_rate\", \"BB_rate\"]] - subRates.mean()\n",
    "    return df\n",
    "\n",
    "stats = stats.groupby(\"yearID\").apply(meanNormalizeRates)"
   ]
  },
  {
   "cell_type": "markdown",
   "metadata": {},
   "source": [
    "#### Problem 1(f)\n",
    "\n",
    "Build a simple linear regression model to predict the number of wins from the average adjusted singles, double, triples, HR, and BB rates. To decide which of these terms to include fit the model to data from 2002 and compute the average squared residuals from predictions to years past 2002. Use the fitted model to define a new sabermetric summary: offensive predicted wins (OPW). Hint: the new summary should be a linear combination of one to five of the five rates.\n"
   ]
  },
  {
   "cell_type": "code",
   "execution_count": 7,
   "metadata": {
    "collapsed": true
   },
   "outputs": [],
   "source": [
    "from sklearn.linear_model import LinearRegression\n",
    "\n",
    "# Define five different regression functions\n",
    "lm1 = LinearRegression()\n",
    "lm2 = LinearRegression()\n",
    "lm3 = LinearRegression()\n",
    "lm4 = LinearRegression()\n",
    "lm5 = LinearRegression()\n",
    "\n",
    "# Divide data into train and test sets\n",
    "train = stats[stats[\"yearID\"]<2002]\n",
    "test = stats[stats[\"yearID\"]>2002]\n",
    "Xtrain = train.drop([\"yearID\", \"teamID\", \"W\"], axis = 1)\n",
    "Xtest = test.drop([\"yearID\", \"teamID\", \"W\"], axis = 1)\n",
    "\n",
    "lm1.fit(Xtrain[[\"1B_rate\"]],train.W)\n",
    "lm2.fit(Xtrain[[\"2B_rate\"]],train.W)\n",
    "lm3.fit(Xtrain[[\"3B_rate\"]],train.W)\n",
    "lm4.fit(Xtrain[[\"HR_rate\"]],train.W)\n",
    "lm5.fit(Xtrain[[\"BB_rate\"]],train.W)\n",
    "\n",
    "OneB_Error = np.mean((test.W - lm1.predict(Xtest[[\"1B_rate\"]])) ** 2)\n",
    "TwoB_Error = np.mean((test.W - lm2.predict(Xtest[[\"2B_rate\"]])) ** 2)\n",
    "ThreeB_Error = np.mean((test.W - lm3.predict(Xtest[[\"3B_rate\"]])) ** 2)\n",
    "HR_Error = np.mean((test.W - lm4.predict(Xtest[[\"HR_rate\"]])) ** 2)\n",
    "BB_Error = np.mean((test.W - lm5.predict(Xtest[[\"BB_rate\"]])) ** 2)\n",
    "\n",
    "# BB Error smallest, so include in model\n",
    "lm1.fit(Xtrain[[\"1B_rate\", \"BB_rate\"]],train.W)\n",
    "lm2.fit(Xtrain[[\"2B_rate\", \"BB_rate\"]],train.W)\n",
    "lm3.fit(Xtrain[[\"3B_rate\", \"BB_rate\"]],train.W)\n",
    "lm4.fit(Xtrain[[\"HR_rate\", \"BB_rate\"]],train.W)\n",
    "\n",
    "OneB_Error = np.mean((test.W - lm1.predict(Xtest[[\"1B_rate\", \"BB_rate\"]])) ** 2)\n",
    "TwoB_Error = np.mean((test.W - lm2.predict(Xtest[[\"2B_rate\", \"BB_rate\"]])) ** 2)\n",
    "ThreeB_Error = np.mean((test.W - lm3.predict(Xtest[[\"3B_rate\", \"BB_rate\"]])) ** 2)\n",
    "HR_Error = np.mean((test.W - lm4.predict(Xtest[[\"HR_rate\", \"BB_rate\"]])) ** 2)\n",
    "BB_Error = np.mean((test.W - lm5.predict(Xtest[[\"BB_rate\"]])) ** 2)\n",
    "# HR Error smallest, so include in model\n",
    "\n",
    "lm1.fit(Xtrain[[\"1B_rate\", \"BB_rate\", \"HR_rate\"]],train.W)\n",
    "lm2.fit(Xtrain[[\"2B_rate\", \"BB_rate\", \"HR_rate\"]],train.W)\n",
    "lm3.fit(Xtrain[[\"3B_rate\", \"BB_rate\", \"HR_rate\"]],train.W)\n",
    "\n",
    "OneB_Error = np.mean((test.W - lm1.predict(Xtest[[\"1B_rate\", \"BB_rate\", \"HR_rate\"]])) ** 2)\n",
    "TwoB_Error = np.mean((test.W - lm2.predict(Xtest[[\"2B_rate\", \"BB_rate\", \"HR_rate\"]])) ** 2)\n",
    "ThreeB_Error = np.mean((test.W - lm3.predict(Xtest[[\"3B_rate\", \"BB_rate\", \"HR_rate\"]])) ** 2)\n",
    "BB_HR_Error = np.mean((test.W - lm4.predict(Xtest[[\"HR_rate\", \"BB_rate\"]])) ** 2)\n",
    "\n",
    "# 1B Error smallest, so include in model\n",
    "lm2.fit(Xtrain[[\"2B_rate\", \"1B_rate\", \"BB_rate\", \"HR_rate\"]],train.W)\n",
    "lm3.fit(Xtrain[[\"3B_rate\", \"1B_rate\", \"BB_rate\", \"HR_rate\"]],train.W)\n",
    "\n",
    "TwoB_Error = np.mean((test.W - lm2.predict(Xtest[[\"2B_rate\", \"1B_rate\", \"BB_rate\", \"HR_rate\"]])) ** 2)\n",
    "ThreeB_Error = np.mean((test.W - lm3.predict(Xtest[[\"3B_rate\", \"1B_rate\", \"BB_rate\", \"HR_rate\"]])) ** 2)\n",
    "BB_HR_1B_Error = np.mean((test.W - lm1.predict(Xtest[[\"1B_rate\", \"BB_rate\", \"HR_rate\"]])) ** 2)\n",
    "\n",
    "# 2B Error smallest, so include in model\n",
    "lm3.fit(Xtrain[[\"3B_rate\", \"1B_rate\", \"2B_rate\", \"BB_rate\", \"HR_rate\"]],train.W)\n",
    "ThreeB_Error = np.mean((test.W - lm3.predict(Xtest[[\"3B_rate\", \"1B_rate\", \"2B_rate\", \"BB_rate\", \"HR_rate\"]])) ** 2)\n",
    "BB_HR_1B_2B_Error = np.mean((test.W - lm2.predict(Xtest[[\"2B_rate\", \"1B_rate\", \"BB_rate\", \"HR_rate\"]])) ** 2)\n",
    "\n",
    "# 1B Error smallest, so include it in model\n",
    "\n",
    "# Model with all features gives the smallest mean squared error on the test set. Use this as the model.\n",
    "stats[\"OPW\"]=lm3.predict(stats[[\"3B_rate\", \"1B_rate\", \"2B_rate\", \"BB_rate\", \"HR_rate\"]]).round()"
   ]
  },
  {
   "cell_type": "markdown",
   "metadata": {},
   "source": [
    "Mean squared error: 82.41"
   ]
  },
  {
   "cell_type": "markdown",
   "metadata": {},
   "source": [
    "#### Problem 1(g)\n",
    "\n",
    "Now we will create a similar database for individual players. Consider only player/year combinations in which the player had at least 500 plate appearances. Consider only the years we considered for the calculations above (after 1947 and seasons with 162 games). For each player/year compute singles, doubles, triples, HR, BB per plate appearance rates. Create a new pandas DataFrame called `playerstats` that has the playerID, yearID and the rates of these stats.  Remove the average for each year as for these rates as done in Problem 1(e). "
   ]
  },
  {
   "cell_type": "code",
   "execution_count": 8,
   "metadata": {
    "collapsed": true
   },
   "outputs": [],
   "source": [
    "Batting[\"PA\"] = Batting[\"AB\"]+Batting[\"BB\"]\n",
    "Batting_sub = Batting[Batting.yearID.isin(stats.yearID.unique()) & (Batting[\"PA\"]>=500)].copy()\n",
    "\n",
    "Batting_sub[\"1B\"] = Batting_sub[\"H\"]-Batting_sub[\"2B\"]-Batting_sub[\"3B\"]-Batting_sub[\"HR\"]\n",
    "Batting_sub[\"1B_rate\"] = Batting_sub[\"1B\"]/Batting_sub[\"PA\"]\n",
    "Batting_sub[\"2B_rate\"] = Batting_sub[\"2B\"]/Batting_sub[\"PA\"]\n",
    "Batting_sub[\"3B_rate\"] = Batting_sub[\"3B\"]/Batting_sub[\"PA\"]\n",
    "Batting_sub[\"HR_rate\"] = Batting_sub[\"HR\"]/Batting_sub[\"PA\"]\n",
    "Batting_sub[\"BB_rate\"] = Batting_sub[\"BB\"]/Batting_sub[\"PA\"]\n",
    "\n",
    "playerstats = Batting_sub[[\"teamID\", \"yearID\", \"1B_rate\", \"2B_rate\", \"3B_rate\", \"HR_rate\", \"BB_rate\"]].copy()\n",
    "\n",
    "playerstats = playerstats.groupby(\"yearID\").apply(meanNormalizeRates)"
   ]
  },
  {
   "cell_type": "markdown",
   "metadata": {},
   "source": [
    "Show the head of the `playerstats` DataFrame. "
   ]
  },
  {
   "cell_type": "code",
   "execution_count": 9,
   "metadata": {
    "collapsed": true
   },
   "outputs": [],
   "source": [
    "playerstats.head()"
   ]
  },
  {
   "cell_type": "markdown",
   "metadata": {},
   "source": [
    "#### Problem 1(h)\n",
    "\n",
    "Using the `playerstats` DataFrame created in Problem 1(g), create a new DataFrame called `playerLS` containing the player's lifetime stats. This DataFrame should contain the playerID, the year the player's career started, the year the player's career ended and the player's lifetime average for each of the quantities (singles, doubles, triples, HR, BB). For simplicity we will simply compute the avaerage of the rates by year (a more correct way is to go back to the totals). "
   ]
  },
  {
   "cell_type": "code",
   "execution_count": 10,
   "metadata": {
    "collapsed": true
   },
   "outputs": [],
   "source": [
    "career = Master[[\"playerID\",\"debut\",\"finalGame\"]].copy()\n",
    "playerLS = playerstats.groupby(\"playerID\", as_index = False).mean()[[\"playerID\", \"1B_rate\", \"2B_rate\", \"3B_rate\", \"HR_rate\", \"BB_rate\"]].copy()\n",
    "\n",
    "playerLS = pd.merge(career, playerLS, how = 'inner', on = [\"playerID\"])\n",
    "def getyear(x):\n",
    "    return int(x.split(\"-\")[0])\n",
    "\n",
    "playerLS[\"debut\"] = playerLS[\"debut\"].apply(getyear)\n",
    "playerLS[\"finalGame\"] = playerLS[\"finalGame\"].apply(getyear)"
   ]
  },
  {
   "cell_type": "markdown",
   "metadata": {},
   "source": [
    "Show the head of the `playerLS` DataFrame. "
   ]
  },
  {
   "cell_type": "code",
   "execution_count": 11,
   "metadata": {
    "collapsed": true
   },
   "outputs": [],
   "source": [
    "playerLS.head()"
   ]
  },
  {
   "cell_type": "markdown",
   "metadata": {},
   "source": [
    "#### Problem 1(i)\n",
    "\n",
    "Compute the OPW for each player based on the average rates in the `playerLS` DataFrame. You can interpret this summary statistic as the predicted wins for a team with 9 batters exactly like the player in question. Add this column to the playerLS DataFrame. Call this colum OPW."
   ]
  },
  {
   "cell_type": "code",
   "execution_count": 12,
   "metadata": {
    "collapsed": true
   },
   "outputs": [],
   "source": [
    "playerLS[\"OPW\"]=lm3.predict(playerLS[[\"3B_rate\", \"1B_rate\", \"2B_rate\", \"BB_rate\", \"HR_rate\"]])"
   ]
  },
  {
   "cell_type": "markdown",
   "metadata": {},
   "source": [
    "#### Problem 1(j)\n",
    "\n",
    "Add four columns to the `playerLS` DataFrame that contains the player's position (C, 1B, 2B, 3B, SS, LF, CF, RF, or OF), first name, last name and median salary. "
   ]
  },
  {
   "cell_type": "code",
   "execution_count": 13,
   "metadata": {
    "collapsed": true
   },
   "outputs": [],
   "source": [
    "from collections import defaultdict\n",
    "\n",
    "def find_pos(df):\n",
    "    positions = df.POS\n",
    "    d = defaultdict(int)\n",
    "    for pos in positions:\n",
    "        d[pos] += 1\n",
    "    result = max(d.iteritems(), key=lambda x: x[1])\n",
    "    return result[0]\n",
    "\n",
    "pos_df = Fielding.groupby(\"playerID\").apply(find_pos).reset_index().rename(columns={0:\"POS\"})\n",
    "\n",
    "playerLS = pd.merge(pd.merge(pos_df, playerLS, how = \"inner\", on = [\"playerID\"]), medianSalaries, how = \"inner\", on = [\"playerID\"])"
   ]
  },
  {
   "cell_type": "markdown",
   "metadata": {},
   "source": [
    "Show the head of the `playerLS` DataFrame. "
   ]
  },
  {
   "cell_type": "code",
   "execution_count": 14,
   "metadata": {
    "collapsed": true
   },
   "outputs": [],
   "source": [
    "playerLS.head()"
   ]
  },
  {
   "cell_type": "markdown",
   "metadata": {},
   "source": [
    "#### Problem 1(k)\n",
    "\n",
    "Subset the `playerLS` DataFrame for players active in 2002 and 2003 and played at least three years. Plot and describe the relationship bewteen the median salary (in millions) and the predicted number of wins. "
   ]
  },
  {
   "cell_type": "code",
   "execution_count": 15,
   "metadata": {
    "collapsed": true
   },
   "outputs": [],
   "source": [
    "playerLS_sub = playerLS[(playerLS.debut < 2002) & (playerLS.finalGame > 2004)]\n",
    "fig = plt.figure()\n",
    "plt.scatter(playerLS_sub[\"medianSalary\"], playerLS_sub[\"OPW\"])\n",
    "plt.xlabel(\"Median salary ($)\")\n",
    "plt.xlabel(\"Offensively predicted wins\")"
   ]
  },
  {
   "cell_type": "markdown",
   "metadata": {},
   "source": [
    "#### Problem 1(l)\n",
    "Pick one players from one of each of these 10 position C, 1B, 2B, 3B, SS, LF, CF, RF, DH, or OF keeping the total median salary of all 10 players below 20 million. Report their averaged predicted wins and total salary."
   ]
  },
  {
   "cell_type": "code",
   "execution_count": 16,
   "metadata": {
    "collapsed": true
   },
   "outputs": [],
   "source": [
    "lm = LinearRegression()\n",
    "lm.fit(playerLS_sub[[\"medianSalary\"]],playerLS_sub[[\"OPW\"]])\n",
    "playerLS_sub[\"Resids\"] = playerLS_sub[[\"OPW\"]].values-lm.predict(playerLS_sub[[\"medianSalary\"]])\n",
    "playerLS_sub_small = playerLS_sub[[\"playerID\",\"nameFirst\",\"nameLast\",\"POS\",\"OPW\",\"medianSalary\",\"Resids\"]]\n",
    "playerLS_sub_small[playerLS_sub_small[\"POS\"]==\"C\"].sort_values(by=[\"Resids\",\"medianSalary\"], ascending = False)\n",
    "playerLS_sub_small[playerLS_sub_small[\"POS\"]==\"1B\"].sort_values(by=[\"Resids\",\"medianSalary\"], ascending = False)\n",
    "playerLS_sub_small[playerLS_sub_small[\"POS\"]==\"2B\"].sort_values(by=[\"Resids\",\"medianSalary\"], ascending = False)\n",
    "playerLS_sub_small[playerLS_sub_small[\"POS\"]==\"3B\"].sort_values(by=[\"Resids\",\"medianSalary\"], ascending = False)\n",
    "playerLS_sub_small[playerLS_sub_small[\"POS\"]==\"SS\"].sort_values(by=[\"Resids\",\"medianSalary\"], ascending = False)\n",
    "playerLS_sub_small[playerLS_sub_small[\"POS\"]==\"LF\"].sort_values(by=[\"Resids\",\"medianSalary\"], ascending = False)\n",
    "playerLS_sub_small[playerLS_sub_small[\"POS\"]==\"CF\"].sort_values(by=[\"Resids\",\"medianSalary\"], ascending = False)\n",
    "playerLS_sub_small[playerLS_sub_small[\"POS\"]==\"RF\"].sort_values(by=[\"Resids\",\"medianSalary\"], ascending = False)\n",
    "playerLS_sub_small[playerLS_sub_small[\"POS\"]==\"OF\"].sort_values(by=[\"Resids\",\"medianSalary\"], ascending = False)\n",
    "playerLS_sub_small[playerLS_sub_small[\"POS\"]==\"DH\"].sort_values(by=[\"Resids\",\"medianSalary\"], ascending = False)\n",
    "\n",
    "# playerID  nameFirst nameLast      POS     OPW         medianSalary    Resids\n",
    "# zaungr01  Gregg     Zaun          C       82.532772   1000000.0       12.584160\n",
    "# johnsni01 Nick      Johnson       1B      107.726460  1450000.0       36.45324\n",
    "# spiveju01 Junior    Spivey        2B      95.265651   816000.0        25.858657\n",
    "# ensbemo01 Morgan    Ensberg       3B      108.584662  450000.0        40.255016\n",
    "# larkiba01 Barry     Larkin        SS      90.643261   5300000.0       8.037285\n",
    "# henderi01 Rickey    Henderson     LF      107.774816  2060000.0       34.706017\n",
    "# torrean02 Andres    Torres        CF      83.987202   1500000.0       12.566804\n",
    "# werthja01 Jayson    Werth         RF      96.026221   1700000.0       24.017108\n",
    "# custja01  Jack      Cust          OF      99.485338   1455000.0       28.197401\n",
    "# martied01 Edgar     Martinez      DH      111.799651  3500000.0       34.492106\n",
    "\n",
    "Total_Median_Salary = 1000000.0+1450000.0+816000.0+450000.0+5300000.0+2060000.0+1500000.0+1700000.0+1455000.0+3500000.0"
   ]
  },
  {
   "cell_type": "markdown",
   "metadata": {},
   "source": [
    "#### Problem 1(m)\n",
    "What do these players outperform in? Singles, doubles, triples HR or BB?"
   ]
  },
  {
   "cell_type": "code",
   "execution_count": 17,
   "metadata": {
    "collapsed": true
   },
   "outputs": [],
   "source": [
    "playerLS_sub[playerLS_sub[\"POS\"]==\"C\"].sort_values(by=[\"Resids\",\"medianSalary\"], ascending = False)\n",
    "playerLS_sub[playerLS_sub[\"POS\"]==\"1B\"].sort_values(by=[\"Resids\",\"medianSalary\"], ascending = False)\n",
    "playerLS_sub[playerLS_sub[\"POS\"]==\"2B\"].sort_values(by=[\"Resids\",\"medianSalary\"], ascending = False)\n",
    "playerLS_sub[playerLS_sub[\"POS\"]==\"3B\"].sort_values(by=[\"Resids\",\"medianSalary\"], ascending = False)\n",
    "playerLS_sub[playerLS_sub[\"POS\"]==\"SS\"].sort_values(by=[\"Resids\",\"medianSalary\"], ascending = False)\n",
    "playerLS_sub[playerLS_sub[\"POS\"]==\"LF\"].sort_values(by=[\"Resids\",\"medianSalary\"], ascending = False)\n",
    "playerLS_sub[playerLS_sub[\"POS\"]==\"CF\"].sort_values(by=[\"Resids\",\"medianSalary\"], ascending = False)\n",
    "playerLS_sub[playerLS_sub[\"POS\"]==\"RF\"].sort_values(by=[\"Resids\",\"medianSalary\"], ascending = False)\n",
    "playerLS_sub[playerLS_sub[\"POS\"]==\"OF\"].sort_values(by=[\"Resids\",\"medianSalary\"], ascending = False)\n",
    "playerLS_sub[playerLS_sub[\"POS\"]==\"DH\"].sort_values(by=[\"Resids\",\"medianSalary\"], ascending = False)\n",
    "\n",
    "# BB-rate!"
   ]
  },
  {
   "cell_type": "markdown",
   "metadata": {},
   "source": [
    "** Your answer here: **"
   ]
  },
  {
   "cell_type": "markdown",
   "metadata": {},
   "source": [
    "## Discussion for Problem 1\n",
    "\n",
    "*Write a brief discussion of your conclusions to the questions and tasks above in 100 words or less.*\n",
    "\n",
    "---"
   ]
  },
  {
   "cell_type": "markdown",
   "metadata": {},
   "source": [
    "# Problem 2:  $k$-Nearest Neighbors and Cross Validation \n",
    "\n",
    "What is the optimal $k$ for predicting species using $k$-nearest neighbor classification \n",
    "on the four features provided by the iris dataset.\n",
    "\n",
    "In this problem you will get to know the famous iris data set, and use cross validation to select the optimal $k$ for a $k$-nearest neighbor classification. This problem set makes heavy use of the [sklearn](http://scikit-learn.org/stable/) library. In addition to Pandas, it is one of the most useful libraries for data scientists! After completing this homework assignment you will know all the basics to get started with your own machine learning projects in sklearn. \n",
    "\n",
    "Future lectures will give further background information on different classifiers and their specific strengths and weaknesses, but when you have the basics for sklearn down, changing the classifier will boil down to exchanging one to two lines of code.\n",
    "\n",
    "The data set is so popular, that sklearn provides an extra function to load it:"
   ]
  },
  {
   "cell_type": "code",
   "execution_count": 18,
   "metadata": {},
   "outputs": [
    {
     "name": "stdout",
     "output_type": "stream",
     "text": [
      "(150, 4) (150,)\n"
     ]
    }
   ],
   "source": [
    "#load the iris data set\n",
    "iris = sklearn.datasets.load_iris()\n",
    "\n",
    "X = iris.data  \n",
    "Y = iris.target\n",
    "\n",
    "print X.shape, Y.shape"
   ]
  },
  {
   "cell_type": "markdown",
   "metadata": {},
   "source": [
    "#### Problem 2(a) \n",
    "Split the data into a train and a test set. Use a random selection of 33% of the samples as test data. Sklearn provides the [`train_test_split`](http://scikit-learn.org/stable/modules/generated/sklearn.cross_validation.train_test_split.html) function for this purpose. Print the dimensions of all the train and test data sets you have created. "
   ]
  },
  {
   "cell_type": "code",
   "execution_count": 19,
   "metadata": {
    "collapsed": true
   },
   "outputs": [],
   "source": [
    "from sklearn.cross_validation import train_test_split\n",
    "\n",
    "Xtrain, Xtest, Ytrain, Ytest = train_test_split(X, Y, train_size=0.67)\n",
    "print Xtrain.shape, Ytrain.shape, Xtest.shape, Ytest.shape"
   ]
  },
  {
   "cell_type": "markdown",
   "metadata": {},
   "source": [
    "#### Problem 2(b)\n",
    "\n",
    "Examine the data further by looking at the projections to the first two principal components of the data. Use the [`TruncatedSVD`](http://scikit-learn.org/stable/modules/generated/sklearn.decomposition.TruncatedSVD.html) function for this purpose, and create a scatter plot. Use the colors on the scatter plot to represent the different classes in the target data. "
   ]
  },
  {
   "cell_type": "code",
   "execution_count": 20,
   "metadata": {
    "collapsed": true
   },
   "outputs": [],
   "source": [
    "from sklearn.decomposition import PCA\n",
    "pca = PCA(n_components=2)\n",
    "X_transformed = pca.fit_transform(Xtrain)\n",
    "pca.explained_variance_ratio_.sum()\n",
    "fig = plt.figure()\n",
    "plt.scatter(X_transformed[:,0],X_transformed[:,1],c=Ytrain, s = 50, cmap=plt.cm.prism)"
   ]
  },
  {
   "cell_type": "markdown",
   "metadata": {},
   "source": [
    "#### Problem 2(c) \n",
    "\n",
    "In the lecture we discussed how to use cross validation to estimate the optimal value for $k$ (the number of nearest neighbors to base the classification on). Use ***ten fold cross validation*** to estimate the optimal value for $k$ for the iris data set. \n",
    "\n",
    "**Note**: For your convenience sklearn does not only include the [KNN classifier](http://scikit-learn.org/stable/modules/generated/sklearn.neighbors.KNeighborsClassifier.html), but also a [grid search function](http://scikit-learn.org/stable/modules/generated/sklearn.grid_search.GridSearchCV.html#sklearn.grid_search.GridSearchCV). The function is called grid search, because if you have to optimize more than one parameter, it is common practice to define a range of possible values for each parameter. An exhaustive search then runs over the complete grid defined by all the possible parameter combinations. This can get very computation heavy, but luckily our KNN classifier only requires tuning of a single parameter for this problem set. "
   ]
  },
  {
   "cell_type": "code",
   "execution_count": 21,
   "metadata": {
    "collapsed": true
   },
   "outputs": [],
   "source": [
    "from sklearn.neighbors import KNeighborsClassifier\n",
    "from sklearn.grid_search import GridSearchCV\n",
    "X_transformed = pca.fit_transform(X_scaled)\n",
    "Xtrain, Xtest, Ytrain, Ytest = train_test_split(X_transformed, Y, train_size=0.67)\n",
    "\n",
    "k_grid = {\"n_neighbors\": range(1,41,1)}\n",
    "gs = GridSearchCV(KNeighborsClassifier(), param_grid=k_grid, cv=10)\n",
    "gs.fit(Xtrain, Ytrain)\n",
    "best = gs.best_estimator_"
   ]
  },
  {
   "cell_type": "markdown",
   "metadata": {},
   "source": [
    "#### Problem 2(d)\n",
    "\n",
    "Visualize the result by plotting the score results versus values for $k$. "
   ]
  },
  {
   "cell_type": "code",
   "execution_count": 22,
   "metadata": {
    "collapsed": true
   },
   "outputs": [],
   "source": [
    "a = gs.grid_scores_\n",
    "scores = [b.cv_validation_scores for b in a]\n",
    "mean_scores = np.mean(scores, axis = 1)\n",
    "plt.boxplot(scores)\n",
    "plt.scatter(range(1,41,1), mean_scores)"
   ]
  },
  {
   "cell_type": "markdown",
   "metadata": {},
   "source": [
    "Verify that the grid search has indeed chosen the right parameter value for $k$."
   ]
  },
  {
   "cell_type": "code",
   "execution_count": 23,
   "metadata": {
    "collapsed": true
   },
   "outputs": [],
   "source": [
    "gs.best_params_"
   ]
  },
  {
   "cell_type": "markdown",
   "metadata": {},
   "source": [
    "#### Problem 2(e)\n",
    "\n",
    "Test the performance of our tuned KNN classifier on the test set."
   ]
  },
  {
   "cell_type": "code",
   "execution_count": 24,
   "metadata": {
    "collapsed": true
   },
   "outputs": [],
   "source": [
    "best.score(Xtest, Ytest)"
   ]
  },
  {
   "cell_type": "markdown",
   "metadata": {},
   "source": [
    "## Discussion for Problem 2\n",
    "\n",
    "*Write a brief discussion of your conclusions to the questions and tasks above in 100 words or less.*\n",
    "\n",
    "---"
   ]
  },
  {
   "cell_type": "markdown",
   "metadata": {},
   "source": [
    "# Problem 3: The Curse and Blessing of Higher Dimensions\n",
    "\n",
    "In this problem we will investigate the influence of higher dimensional spaces on the classification. The data set is again one of the standard data sets from sklearn. The [digits data set](http://scikit-learn.org/stable/modules/generated/sklearn.datasets.load_digits.html) is similar to the MNIST data set discussed in the lecture. The main difference is, that each digit is represented by an 8x8 pixel image patch, which is considerably smaller than the 28x28 pixels from MNIST. In addition, the gray values are restricted to 16 different values (4 bit), instead of 256 (8 bit) for MNIST. \n",
    "\n",
    "First we again load our data set."
   ]
  },
  {
   "cell_type": "code",
   "execution_count": 25,
   "metadata": {},
   "outputs": [
    {
     "name": "stdout",
     "output_type": "stream",
     "text": [
      "(1797, 64) (1797,)\n"
     ]
    }
   ],
   "source": [
    "digits = sklearn.datasets.load_digits()\n",
    "\n",
    "X = digits.data  \n",
    "Y = digits.target\n",
    "\n",
    "print X.shape, Y.shape"
   ]
  },
  {
   "cell_type": "markdown",
   "metadata": {},
   "source": [
    "#### Problem 3(a) \n",
    "\n",
    "Start with the same steps as in Problem 2. Split the data into train and test set. Use 33% of the samples as test data. Print the dimensions of all the train and test data sets you created. "
   ]
  },
  {
   "cell_type": "code",
   "execution_count": 26,
   "metadata": {
    "collapsed": true
   },
   "outputs": [],
   "source": [
    "from sklearn.cross_validation import train_test_split\n",
    "from sklearn import preprocessing\n",
    "\n",
    "# You should NEVER do anything which leaks information about your testing data BEFORE a split.\n",
    "# If you normalize before the split, then you will use the testing data to calculate the range\n",
    "# or distribution of this data which leaks this information also into the testing data.  And\n",
    "# that \"contaminates\" your data and will lead to over-optimistic performance estimations on your\n",
    "# testing data.  This is by the way not just true for normalization but for all data preprocessing\n",
    "# steps which change data based on all data points including also feature selection.  Just to be\n",
    "# clear: This contamination does not have to lead to over-optimistic performance estimations but\n",
    "# often it will.\n",
    "Xtrain, Xtest, Ytrain, Ytest = train_test_split(X, Y, train_size=0.67, random_state=42)\n",
    "Xtrain_sc = preprocessing.scale(Xtrain)\n",
    "Xtest_sc = preprocessing.scale(Xtest)\n",
    "\n",
    "print Xtrain_sc.shape, Ytrain.shape, Xtest_sc.shape, Ytest.shape"
   ]
  },
  {
   "cell_type": "markdown",
   "metadata": {},
   "source": [
    "#### Problem 3(b) \n",
    "\n",
    "Similar to Problem 2(b), create a scatter plot of the projections to the first two PCs.  Use the colors on the scatter plot to represent the different classes in the target data. How well can we separate the classes?\n",
    "\n",
    "**Hint**: Use a `Colormap` in matplotlib to represent the diferent classes in the target data. "
   ]
  },
  {
   "cell_type": "code",
   "execution_count": 27,
   "metadata": {
    "collapsed": true
   },
   "outputs": [],
   "source": [
    "from sklearn.decomposition import PCA\n",
    "pca = PCA(n_components=2)\n",
    "Xtrain_tr = pca.fit_transform(Xtrain_sc)\n",
    "\n",
    "pca.explained_variance_ratio_.sum()\n",
    "fig = plt.figure()\n",
    "plt.scatter(Xtrain_tr[:,0],Xtrain_tr[:,1],c=Ytrain, s = 50, cmap=plt.cm.prism)"
   ]
  },
  {
   "cell_type": "markdown",
   "metadata": {},
   "source": [
    "Create individual scatter plots using only two classes at a time to explore which classes are most difficult to distinguish in terms of class separability.  You do not need to create scatter plots for all pairwise comparisons, but at least show one. "
   ]
  },
  {
   "cell_type": "code",
   "execution_count": 28,
   "metadata": {
    "collapsed": true
   },
   "outputs": [],
   "source": [
    "fig = plt.figure()\n",
    "plt.scatter(Xtrain_tr[(Ytrain==5) | (Ytrain ==8),0],Xtrain_tr[(Ytrain==5) | (Ytrain ==8),1],c=Ytrain[(Ytrain==5) | (Ytrain ==8)], s = 50, cmap=plt.cm.prism)"
   ]
  },
  {
   "cell_type": "markdown",
   "metadata": {},
   "source": [
    "Give a brief interpretation of the scatter plot. Which classes look like hard to distinguish? Do both feature dimensions contribute to the class separability? "
   ]
  },
  {
   "cell_type": "markdown",
   "metadata": {},
   "source": [
    "** Your answer here: **"
   ]
  },
  {
   "cell_type": "markdown",
   "metadata": {},
   "source": [
    "#### Problem 3(c) \n",
    "\n",
    "Write a **ten-fold cross validation** to estimate the optimal value for $k$ for the digits data set. *However*, this time we are interested in the influence of the number of dimensions we project the data down as well. \n",
    "\n",
    "Extend the cross validation as done for the iris data set, to optimize $k$ for different dimensional projections of the data. Create a boxplot showing test scores for the optimal $k$ for each $d$-dimensional subspace with $d$ ranging from one to ten. The plot should have the scores on the y-axis and the different dimensions $d$ on the x-axis. You can use your favorite plot function for the boxplots. [Seaborn](http://web.stanford.edu/~mwaskom/software/seaborn/index.html) is worth having a look at though. It is a great library for statistical visualization and of course also comes with a [`boxplot`](http://web.stanford.edu/~mwaskom/software/seaborn/generated/seaborn.boxplot.html) function that has simple means for changing the labels on the x-axis."
   ]
  },
  {
   "cell_type": "code",
   "execution_count": 29,
   "metadata": {
    "collapsed": true
   },
   "outputs": [],
   "source": [
    "### Your cross validation and evaluation code here ###"
   ]
  },
  {
   "cell_type": "code",
   "execution_count": 30,
   "metadata": {
    "collapsed": true
   },
   "outputs": [],
   "source": [
    "### Your boxplot code here ### "
   ]
  },
  {
   "cell_type": "markdown",
   "metadata": {},
   "source": [
    "Write a short interpretation of the generated plot, answering the following questions:\n",
    "\n",
    "* What trend do you see in the plot for increasing dimensions?\n",
    "\n",
    "* Why do you think this is happening?"
   ]
  },
  {
   "cell_type": "markdown",
   "metadata": {},
   "source": [
    "** Your answer here: **"
   ]
  },
  {
   "cell_type": "markdown",
   "metadata": {},
   "source": [
    "#### Problem 3(d) \n",
    "\n",
    "**For AC209 Students**: Change the boxplot we generated above to also show the optimal value for $k$ chosen by the cross validation grid search. "
   ]
  },
  {
   "cell_type": "code",
   "execution_count": 31,
   "metadata": {
    "collapsed": true
   },
   "outputs": [],
   "source": [
    "### Your code here ### "
   ]
  },
  {
   "cell_type": "markdown",
   "metadata": {},
   "source": [
    "Write a short interpretation answering the following questions:\n",
    "\n",
    "* Which trend do you observe for the optimal value of $k$?\n",
    "\n",
    "* Why do you think this is happening?"
   ]
  },
  {
   "cell_type": "markdown",
   "metadata": {},
   "source": [
    "** Your answer here: **"
   ]
  },
  {
   "cell_type": "markdown",
   "metadata": {},
   "source": [
    "## Discussion for Problem 3\n",
    "\n",
    "*Write a brief discussion of your conclusions to the questions and tasks above in 100 words or less.*\n",
    "\n",
    "---"
   ]
  },
  {
   "cell_type": "markdown",
   "metadata": {},
   "source": [
    "# Submission Instructions\n",
    "\n",
    "To submit your homework, create a folder named **lastname_firstinitial_hw#** and place your IPython notebooks, data files, and any other files in this folder. Your IPython Notebooks should be completely executed with the results visible in the notebook. We should not have to run any code.  Compress the folder (please use .zip compression) and submit to the CS109 dropbox in the appropriate folder. *If we cannot access your work because these directions are not followed correctly, we will not grade your work.*\n"
   ]
  },
  {
   "cell_type": "code",
   "execution_count": 31,
   "metadata": {
    "collapsed": true
   },
   "outputs": [],
   "source": []
  }
 ],
 "metadata": {
  "kernelspec": {
   "display_name": "Python 2",
   "language": "python",
   "name": "python2"
  },
  "language_info": {
   "codemirror_mode": {
    "name": "ipython",
    "version": 2
   },
   "file_extension": ".py",
   "mimetype": "text/x-python",
   "name": "python",
   "nbconvert_exporter": "python",
   "pygments_lexer": "ipython2",
   "version": "2.7.14"
  }
 },
 "nbformat": 4,
 "nbformat_minor": 1
}
